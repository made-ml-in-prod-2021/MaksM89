{
 "cells": [
  {
   "cell_type": "code",
   "execution_count": 1,
   "metadata": {},
   "outputs": [],
   "source": [
    "import os\n",
    "\n",
    "import numpy as np\n",
    "import pandas as pd\n",
    "import requests\n",
    "import matplotlib.pyplot as plt\n",
    "\n",
    "from sklearn.model_selection import train_test_split\n",
    "\n",
    "import pickle"
   ]
  },
  {
   "cell_type": "code",
   "execution_count": 2,
   "metadata": {},
   "outputs": [
    {
     "data": {
      "text/html": [
       "<div>\n",
       "<style scoped>\n",
       "    .dataframe tbody tr th:only-of-type {\n",
       "        vertical-align: middle;\n",
       "    }\n",
       "\n",
       "    .dataframe tbody tr th {\n",
       "        vertical-align: top;\n",
       "    }\n",
       "\n",
       "    .dataframe thead th {\n",
       "        text-align: right;\n",
       "    }\n",
       "</style>\n",
       "<table border=\"1\" class=\"dataframe\">\n",
       "  <thead>\n",
       "    <tr style=\"text-align: right;\">\n",
       "      <th></th>\n",
       "      <th>Age</th>\n",
       "      <th>Sex</th>\n",
       "      <th>ChestPain</th>\n",
       "      <th>RestBP</th>\n",
       "      <th>Chol</th>\n",
       "      <th>Fbs</th>\n",
       "      <th>RestECG</th>\n",
       "      <th>MaxHR</th>\n",
       "      <th>ExAng</th>\n",
       "      <th>Oldpeak</th>\n",
       "      <th>Slope</th>\n",
       "      <th>Ca</th>\n",
       "      <th>Thal</th>\n",
       "      <th>AHD</th>\n",
       "    </tr>\n",
       "  </thead>\n",
       "  <tbody>\n",
       "    <tr>\n",
       "      <th>88</th>\n",
       "      <td>53</td>\n",
       "      <td>0</td>\n",
       "      <td>nonanginal</td>\n",
       "      <td>128</td>\n",
       "      <td>216</td>\n",
       "      <td>0</td>\n",
       "      <td>2</td>\n",
       "      <td>115</td>\n",
       "      <td>0</td>\n",
       "      <td>0.0</td>\n",
       "      <td>1</td>\n",
       "      <td>0.0</td>\n",
       "      <td>NaN</td>\n",
       "      <td>No</td>\n",
       "    </tr>\n",
       "    <tr>\n",
       "      <th>167</th>\n",
       "      <td>52</td>\n",
       "      <td>1</td>\n",
       "      <td>nonanginal</td>\n",
       "      <td>138</td>\n",
       "      <td>223</td>\n",
       "      <td>0</td>\n",
       "      <td>0</td>\n",
       "      <td>169</td>\n",
       "      <td>0</td>\n",
       "      <td>0.0</td>\n",
       "      <td>1</td>\n",
       "      <td>NaN</td>\n",
       "      <td>normal</td>\n",
       "      <td>No</td>\n",
       "    </tr>\n",
       "    <tr>\n",
       "      <th>193</th>\n",
       "      <td>43</td>\n",
       "      <td>1</td>\n",
       "      <td>asymptomatic</td>\n",
       "      <td>132</td>\n",
       "      <td>247</td>\n",
       "      <td>1</td>\n",
       "      <td>2</td>\n",
       "      <td>143</td>\n",
       "      <td>1</td>\n",
       "      <td>0.1</td>\n",
       "      <td>2</td>\n",
       "      <td>NaN</td>\n",
       "      <td>reversable</td>\n",
       "      <td>Yes</td>\n",
       "    </tr>\n",
       "    <tr>\n",
       "      <th>267</th>\n",
       "      <td>52</td>\n",
       "      <td>1</td>\n",
       "      <td>asymptomatic</td>\n",
       "      <td>128</td>\n",
       "      <td>204</td>\n",
       "      <td>1</td>\n",
       "      <td>0</td>\n",
       "      <td>156</td>\n",
       "      <td>1</td>\n",
       "      <td>1.0</td>\n",
       "      <td>2</td>\n",
       "      <td>0.0</td>\n",
       "      <td>NaN</td>\n",
       "      <td>Yes</td>\n",
       "    </tr>\n",
       "    <tr>\n",
       "      <th>288</th>\n",
       "      <td>58</td>\n",
       "      <td>1</td>\n",
       "      <td>nontypical</td>\n",
       "      <td>125</td>\n",
       "      <td>220</td>\n",
       "      <td>0</td>\n",
       "      <td>0</td>\n",
       "      <td>144</td>\n",
       "      <td>0</td>\n",
       "      <td>0.4</td>\n",
       "      <td>2</td>\n",
       "      <td>NaN</td>\n",
       "      <td>reversable</td>\n",
       "      <td>No</td>\n",
       "    </tr>\n",
       "  </tbody>\n",
       "</table>\n",
       "</div>"
      ],
      "text/plain": [
       "     Age  Sex     ChestPain  RestBP  Chol  Fbs  RestECG  MaxHR  ExAng  \\\n",
       "88    53    0    nonanginal     128   216    0        2    115      0   \n",
       "167   52    1    nonanginal     138   223    0        0    169      0   \n",
       "193   43    1  asymptomatic     132   247    1        2    143      1   \n",
       "267   52    1  asymptomatic     128   204    1        0    156      1   \n",
       "288   58    1    nontypical     125   220    0        0    144      0   \n",
       "\n",
       "     Oldpeak  Slope   Ca        Thal  AHD  \n",
       "88       0.0      1  0.0         NaN   No  \n",
       "167      0.0      1  NaN      normal   No  \n",
       "193      0.1      2  NaN  reversable  Yes  \n",
       "267      1.0      2  0.0         NaN  Yes  \n",
       "288      0.4      2  NaN  reversable   No  "
      ]
     },
     "execution_count": 2,
     "metadata": {},
     "output_type": "execute_result"
    }
   ],
   "source": [
    "if not os.path.exists('heart.csv'):\n",
    "    responce = requests.get('https://raw.githubusercontent.com/rashida048/Datasets/master/Heart.csv')\n",
    "    assert responce.ok, 'Cannot download file'\n",
    "    with open('heart.csv', 'wb') as fout:\n",
    "        fout.write(responce.content)\n",
    "        print('Dataset download')\n",
    "\n",
    "df = pd.read_csv('heart.csv', index_col=0)\n",
    "df[df.isna().any(1)].head()"
   ]
  },
  {
   "cell_type": "code",
   "execution_count": 7,
   "metadata": {},
   "outputs": [
    {
     "data": {
      "text/plain": [
       "(Index(['Age', 'Sex', 'ChestPain', 'RestBP', 'Chol', 'Fbs', 'RestECG', 'MaxHR',\n",
       "        'ExAng', 'Oldpeak', 'Slope', 'Ca', 'Thal', 'AHD'],\n",
       "       dtype='object'), 14)"
      ]
     },
     "execution_count": 7,
     "metadata": {},
     "output_type": "execute_result"
    }
   ],
   "source": [
    "df.columns, len(df.columns)"
   ]
  },
  {
   "cell_type": "markdown",
   "metadata": {},
   "source": [
    "# Посмотрим на данные"
   ]
  },
  {
   "cell_type": "code",
   "execution_count": 4,
   "metadata": {},
   "outputs": [
    {
     "data": {
      "text/plain": [
       "Age            int64\n",
       "Sex            int64\n",
       "ChestPain     object\n",
       "RestBP         int64\n",
       "Chol           int64\n",
       "Fbs            int64\n",
       "RestECG        int64\n",
       "MaxHR          int64\n",
       "ExAng          int64\n",
       "Oldpeak      float64\n",
       "Slope          int64\n",
       "Ca           float64\n",
       "Thal          object\n",
       "AHD           object\n",
       "dtype: object"
      ]
     },
     "execution_count": 4,
     "metadata": {},
     "output_type": "execute_result"
    }
   ],
   "source": [
    "df.dtypes"
   ]
  },
  {
   "cell_type": "code",
   "execution_count": 6,
   "metadata": {},
   "outputs": [],
   "source": [
    "pd.read_csv?"
   ]
  },
  {
   "cell_type": "code",
   "execution_count": 5,
   "metadata": {},
   "outputs": [
    {
     "name": "stdout",
     "output_type": "stream",
     "text": [
      "Sex          0\n",
      "Fbs          0\n",
      "RestECG      0\n",
      "ExAng        0\n",
      "Slope        0\n",
      "ChestPain    0\n",
      "Ca           4\n",
      "Thal         2\n",
      "dtype: int64\n"
     ]
    },
    {
     "data": {
      "text/plain": [
       "Sex                                                   [1, 0]\n",
       "Fbs                                                   [1, 0]\n",
       "RestECG                                            [2, 0, 1]\n",
       "ExAng                                                 [0, 1]\n",
       "Slope                                              [3, 2, 1]\n",
       "ChestPain    [typical, asymptomatic, nonanginal, nontypical]\n",
       "Ca                                 [0.0, 3.0, 2.0, 1.0, nan]\n",
       "Thal                        [fixed, normal, reversable, nan]\n",
       "dtype: object"
      ]
     },
     "execution_count": 5,
     "metadata": {},
     "output_type": "execute_result"
    }
   ],
   "source": [
    "catecorical_features = ['Sex', 'Fbs', 'RestECG', 'ExAng', 'Slope', 'ChestPain', 'Ca', 'Thal']\n",
    "print(df[catecorical_features].isna().sum())\n",
    "df[catecorical_features].apply(lambda x: x.unique().tolist())"
   ]
  },
  {
   "cell_type": "code",
   "execution_count": 7,
   "metadata": {},
   "outputs": [
    {
     "name": "stdout",
     "output_type": "stream",
     "text": [
      "Age        0\n",
      "RestBP     0\n",
      "Chol       0\n",
      "MaxHR      0\n",
      "Oldpeak    0\n",
      "dtype: int64\n"
     ]
    },
    {
     "data": {
      "text/plain": [
       "Age        [63.0, 67.0, 37.0, 41.0, 56.0, 62.0, 57.0, 53....\n",
       "RestBP     [145.0, 160.0, 120.0, 130.0, 140.0, 172.0, 150...\n",
       "Chol       [233.0, 286.0, 229.0, 250.0, 204.0, 236.0, 268...\n",
       "MaxHR      [150.0, 108.0, 129.0, 187.0, 172.0, 178.0, 160...\n",
       "Oldpeak    [2.3, 1.5, 2.6, 3.5, 1.4, 0.8, 3.6, 0.6, 3.1, ...\n",
       "dtype: object"
      ]
     },
     "execution_count": 7,
     "metadata": {},
     "output_type": "execute_result"
    }
   ],
   "source": [
    "integer_featuers = ['Age', 'RestBP', 'Chol', 'MaxHR','Oldpeak']\n",
    "print(df[integer_featuers].isna().sum())\n",
    "df[integer_featuers].apply(lambda x: x.unique().tolist())"
   ]
  },
  {
   "cell_type": "code",
   "execution_count": 8,
   "metadata": {},
   "outputs": [
    {
     "data": {
      "text/plain": [
       "0"
      ]
     },
     "execution_count": 8,
     "metadata": {},
     "output_type": "execute_result"
    }
   ],
   "source": [
    "df.duplicated().sum()"
   ]
  },
  {
   "cell_type": "code",
   "execution_count": 9,
   "metadata": {},
   "outputs": [
    {
     "data": {
      "text/html": [
       "<div>\n",
       "<style scoped>\n",
       "    .dataframe tbody tr th:only-of-type {\n",
       "        vertical-align: middle;\n",
       "    }\n",
       "\n",
       "    .dataframe tbody tr th {\n",
       "        vertical-align: top;\n",
       "    }\n",
       "\n",
       "    .dataframe thead th {\n",
       "        text-align: right;\n",
       "    }\n",
       "</style>\n",
       "<table border=\"1\" class=\"dataframe\">\n",
       "  <thead>\n",
       "    <tr style=\"text-align: right;\">\n",
       "      <th></th>\n",
       "      <th>Age</th>\n",
       "      <th>Sex</th>\n",
       "      <th>RestBP</th>\n",
       "      <th>Chol</th>\n",
       "      <th>Fbs</th>\n",
       "      <th>RestECG</th>\n",
       "      <th>MaxHR</th>\n",
       "      <th>ExAng</th>\n",
       "      <th>Oldpeak</th>\n",
       "      <th>Slope</th>\n",
       "      <th>Ca</th>\n",
       "    </tr>\n",
       "  </thead>\n",
       "  <tbody>\n",
       "    <tr>\n",
       "      <th>count</th>\n",
       "      <td>303.000000</td>\n",
       "      <td>303.000000</td>\n",
       "      <td>303.000000</td>\n",
       "      <td>303.000000</td>\n",
       "      <td>303.000000</td>\n",
       "      <td>303.000000</td>\n",
       "      <td>303.000000</td>\n",
       "      <td>303.000000</td>\n",
       "      <td>303.000000</td>\n",
       "      <td>303.000000</td>\n",
       "      <td>299.000000</td>\n",
       "    </tr>\n",
       "    <tr>\n",
       "      <th>mean</th>\n",
       "      <td>54.438944</td>\n",
       "      <td>0.679868</td>\n",
       "      <td>131.689769</td>\n",
       "      <td>246.693069</td>\n",
       "      <td>0.148515</td>\n",
       "      <td>0.990099</td>\n",
       "      <td>149.607261</td>\n",
       "      <td>0.326733</td>\n",
       "      <td>1.039604</td>\n",
       "      <td>1.600660</td>\n",
       "      <td>0.672241</td>\n",
       "    </tr>\n",
       "    <tr>\n",
       "      <th>std</th>\n",
       "      <td>9.038662</td>\n",
       "      <td>0.467299</td>\n",
       "      <td>17.599748</td>\n",
       "      <td>51.776918</td>\n",
       "      <td>0.356198</td>\n",
       "      <td>0.994971</td>\n",
       "      <td>22.875003</td>\n",
       "      <td>0.469794</td>\n",
       "      <td>1.161075</td>\n",
       "      <td>0.616226</td>\n",
       "      <td>0.937438</td>\n",
       "    </tr>\n",
       "    <tr>\n",
       "      <th>min</th>\n",
       "      <td>29.000000</td>\n",
       "      <td>0.000000</td>\n",
       "      <td>94.000000</td>\n",
       "      <td>126.000000</td>\n",
       "      <td>0.000000</td>\n",
       "      <td>0.000000</td>\n",
       "      <td>71.000000</td>\n",
       "      <td>0.000000</td>\n",
       "      <td>0.000000</td>\n",
       "      <td>1.000000</td>\n",
       "      <td>0.000000</td>\n",
       "    </tr>\n",
       "    <tr>\n",
       "      <th>25%</th>\n",
       "      <td>48.000000</td>\n",
       "      <td>0.000000</td>\n",
       "      <td>120.000000</td>\n",
       "      <td>211.000000</td>\n",
       "      <td>0.000000</td>\n",
       "      <td>0.000000</td>\n",
       "      <td>133.500000</td>\n",
       "      <td>0.000000</td>\n",
       "      <td>0.000000</td>\n",
       "      <td>1.000000</td>\n",
       "      <td>0.000000</td>\n",
       "    </tr>\n",
       "    <tr>\n",
       "      <th>50%</th>\n",
       "      <td>56.000000</td>\n",
       "      <td>1.000000</td>\n",
       "      <td>130.000000</td>\n",
       "      <td>241.000000</td>\n",
       "      <td>0.000000</td>\n",
       "      <td>1.000000</td>\n",
       "      <td>153.000000</td>\n",
       "      <td>0.000000</td>\n",
       "      <td>0.800000</td>\n",
       "      <td>2.000000</td>\n",
       "      <td>0.000000</td>\n",
       "    </tr>\n",
       "    <tr>\n",
       "      <th>75%</th>\n",
       "      <td>61.000000</td>\n",
       "      <td>1.000000</td>\n",
       "      <td>140.000000</td>\n",
       "      <td>275.000000</td>\n",
       "      <td>0.000000</td>\n",
       "      <td>2.000000</td>\n",
       "      <td>166.000000</td>\n",
       "      <td>1.000000</td>\n",
       "      <td>1.600000</td>\n",
       "      <td>2.000000</td>\n",
       "      <td>1.000000</td>\n",
       "    </tr>\n",
       "    <tr>\n",
       "      <th>max</th>\n",
       "      <td>77.000000</td>\n",
       "      <td>1.000000</td>\n",
       "      <td>200.000000</td>\n",
       "      <td>564.000000</td>\n",
       "      <td>1.000000</td>\n",
       "      <td>2.000000</td>\n",
       "      <td>202.000000</td>\n",
       "      <td>1.000000</td>\n",
       "      <td>6.200000</td>\n",
       "      <td>3.000000</td>\n",
       "      <td>3.000000</td>\n",
       "    </tr>\n",
       "  </tbody>\n",
       "</table>\n",
       "</div>"
      ],
      "text/plain": [
       "              Age         Sex      RestBP        Chol         Fbs     RestECG  \\\n",
       "count  303.000000  303.000000  303.000000  303.000000  303.000000  303.000000   \n",
       "mean    54.438944    0.679868  131.689769  246.693069    0.148515    0.990099   \n",
       "std      9.038662    0.467299   17.599748   51.776918    0.356198    0.994971   \n",
       "min     29.000000    0.000000   94.000000  126.000000    0.000000    0.000000   \n",
       "25%     48.000000    0.000000  120.000000  211.000000    0.000000    0.000000   \n",
       "50%     56.000000    1.000000  130.000000  241.000000    0.000000    1.000000   \n",
       "75%     61.000000    1.000000  140.000000  275.000000    0.000000    2.000000   \n",
       "max     77.000000    1.000000  200.000000  564.000000    1.000000    2.000000   \n",
       "\n",
       "            MaxHR       ExAng     Oldpeak       Slope          Ca  \n",
       "count  303.000000  303.000000  303.000000  303.000000  299.000000  \n",
       "mean   149.607261    0.326733    1.039604    1.600660    0.672241  \n",
       "std     22.875003    0.469794    1.161075    0.616226    0.937438  \n",
       "min     71.000000    0.000000    0.000000    1.000000    0.000000  \n",
       "25%    133.500000    0.000000    0.000000    1.000000    0.000000  \n",
       "50%    153.000000    0.000000    0.800000    2.000000    0.000000  \n",
       "75%    166.000000    1.000000    1.600000    2.000000    1.000000  \n",
       "max    202.000000    1.000000    6.200000    3.000000    3.000000  "
      ]
     },
     "execution_count": 9,
     "metadata": {},
     "output_type": "execute_result"
    }
   ],
   "source": [
    "df.describe()"
   ]
  },
  {
   "cell_type": "code",
   "execution_count": 10,
   "metadata": {},
   "outputs": [
    {
     "name": "stdout",
     "output_type": "stream",
     "text": [
      "No     164\n",
      "Yes    139\n",
      "Name: AHD, dtype: int64\n"
     ]
    },
    {
     "data": {
      "image/png": "[encoded data removed]",
      "text/plain": [
       "<Figure size 432x288 with 1 Axes>"
      ]
     },
     "metadata": {
      "needs_background": "light"
     },
     "output_type": "display_data"
    }
   ],
   "source": [
    "# Посмотрим сбалансированность классов\n",
    "print(df.AHD.value_counts())\n",
    "df.AHD.apply(lambda x: 1 if x == 'Yes' else 0).hist();"
   ]
  },
  {
   "cell_type": "code",
   "execution_count": 11,
   "metadata": {},
   "outputs": [
    {
     "data": {
      "text/html": [
       "<div>\n",
       "<style scoped>\n",
       "    .dataframe tbody tr th:only-of-type {\n",
       "        vertical-align: middle;\n",
       "    }\n",
       "\n",
       "    .dataframe tbody tr th {\n",
       "        vertical-align: top;\n",
       "    }\n",
       "\n",
       "    .dataframe thead th {\n",
       "        text-align: right;\n",
       "    }\n",
       "</style>\n",
       "<table border=\"1\" class=\"dataframe\">\n",
       "  <thead>\n",
       "    <tr style=\"text-align: right;\">\n",
       "      <th></th>\n",
       "      <th>Age</th>\n",
       "      <th>Sex</th>\n",
       "      <th>RestBP</th>\n",
       "      <th>Chol</th>\n",
       "      <th>Fbs</th>\n",
       "      <th>RestECG</th>\n",
       "      <th>MaxHR</th>\n",
       "      <th>ExAng</th>\n",
       "      <th>Oldpeak</th>\n",
       "      <th>Slope</th>\n",
       "      <th>Ca</th>\n",
       "      <th>target</th>\n",
       "    </tr>\n",
       "  </thead>\n",
       "  <tbody>\n",
       "    <tr>\n",
       "      <th>Age</th>\n",
       "      <td>1.000000</td>\n",
       "      <td>-0.097542</td>\n",
       "      <td>0.284946</td>\n",
       "      <td>0.208950</td>\n",
       "      <td>0.118530</td>\n",
       "      <td>0.148868</td>\n",
       "      <td>-0.393806</td>\n",
       "      <td>0.091661</td>\n",
       "      <td>0.203805</td>\n",
       "      <td>0.161770</td>\n",
       "      <td>0.362605</td>\n",
       "      <td>0.223120</td>\n",
       "    </tr>\n",
       "    <tr>\n",
       "      <th>Sex</th>\n",
       "      <td>-0.097542</td>\n",
       "      <td>1.000000</td>\n",
       "      <td>-0.064456</td>\n",
       "      <td>-0.199915</td>\n",
       "      <td>0.047862</td>\n",
       "      <td>0.021647</td>\n",
       "      <td>-0.048663</td>\n",
       "      <td>0.146201</td>\n",
       "      <td>0.102173</td>\n",
       "      <td>0.037533</td>\n",
       "      <td>0.093185</td>\n",
       "      <td>0.276816</td>\n",
       "    </tr>\n",
       "    <tr>\n",
       "      <th>RestBP</th>\n",
       "      <td>0.284946</td>\n",
       "      <td>-0.064456</td>\n",
       "      <td>1.000000</td>\n",
       "      <td>0.130120</td>\n",
       "      <td>0.175340</td>\n",
       "      <td>0.146560</td>\n",
       "      <td>-0.045351</td>\n",
       "      <td>0.064762</td>\n",
       "      <td>0.189171</td>\n",
       "      <td>0.117382</td>\n",
       "      <td>0.098773</td>\n",
       "      <td>0.150825</td>\n",
       "    </tr>\n",
       "    <tr>\n",
       "      <th>Chol</th>\n",
       "      <td>0.208950</td>\n",
       "      <td>-0.199915</td>\n",
       "      <td>0.130120</td>\n",
       "      <td>1.000000</td>\n",
       "      <td>0.009841</td>\n",
       "      <td>0.171043</td>\n",
       "      <td>-0.003432</td>\n",
       "      <td>0.061310</td>\n",
       "      <td>0.046564</td>\n",
       "      <td>-0.004062</td>\n",
       "      <td>0.119000</td>\n",
       "      <td>0.085164</td>\n",
       "    </tr>\n",
       "    <tr>\n",
       "      <th>Fbs</th>\n",
       "      <td>0.118530</td>\n",
       "      <td>0.047862</td>\n",
       "      <td>0.175340</td>\n",
       "      <td>0.009841</td>\n",
       "      <td>1.000000</td>\n",
       "      <td>0.069564</td>\n",
       "      <td>-0.007854</td>\n",
       "      <td>0.025665</td>\n",
       "      <td>0.005747</td>\n",
       "      <td>0.059894</td>\n",
       "      <td>0.145478</td>\n",
       "      <td>0.025264</td>\n",
       "    </tr>\n",
       "    <tr>\n",
       "      <th>RestECG</th>\n",
       "      <td>0.148868</td>\n",
       "      <td>0.021647</td>\n",
       "      <td>0.146560</td>\n",
       "      <td>0.171043</td>\n",
       "      <td>0.069564</td>\n",
       "      <td>1.000000</td>\n",
       "      <td>-0.083389</td>\n",
       "      <td>0.084867</td>\n",
       "      <td>0.114133</td>\n",
       "      <td>0.133946</td>\n",
       "      <td>0.128343</td>\n",
       "      <td>0.169202</td>\n",
       "    </tr>\n",
       "    <tr>\n",
       "      <th>MaxHR</th>\n",
       "      <td>-0.393806</td>\n",
       "      <td>-0.048663</td>\n",
       "      <td>-0.045351</td>\n",
       "      <td>-0.003432</td>\n",
       "      <td>-0.007854</td>\n",
       "      <td>-0.083389</td>\n",
       "      <td>1.000000</td>\n",
       "      <td>-0.378103</td>\n",
       "      <td>-0.343085</td>\n",
       "      <td>-0.385601</td>\n",
       "      <td>-0.264246</td>\n",
       "      <td>-0.417167</td>\n",
       "    </tr>\n",
       "    <tr>\n",
       "      <th>ExAng</th>\n",
       "      <td>0.091661</td>\n",
       "      <td>0.146201</td>\n",
       "      <td>0.064762</td>\n",
       "      <td>0.061310</td>\n",
       "      <td>0.025665</td>\n",
       "      <td>0.084867</td>\n",
       "      <td>-0.378103</td>\n",
       "      <td>1.000000</td>\n",
       "      <td>0.288223</td>\n",
       "      <td>0.257748</td>\n",
       "      <td>0.145570</td>\n",
       "      <td>0.431894</td>\n",
       "    </tr>\n",
       "    <tr>\n",
       "      <th>Oldpeak</th>\n",
       "      <td>0.203805</td>\n",
       "      <td>0.102173</td>\n",
       "      <td>0.189171</td>\n",
       "      <td>0.046564</td>\n",
       "      <td>0.005747</td>\n",
       "      <td>0.114133</td>\n",
       "      <td>-0.343085</td>\n",
       "      <td>0.288223</td>\n",
       "      <td>1.000000</td>\n",
       "      <td>0.577537</td>\n",
       "      <td>0.295832</td>\n",
       "      <td>0.424510</td>\n",
       "    </tr>\n",
       "    <tr>\n",
       "      <th>Slope</th>\n",
       "      <td>0.161770</td>\n",
       "      <td>0.037533</td>\n",
       "      <td>0.117382</td>\n",
       "      <td>-0.004062</td>\n",
       "      <td>0.059894</td>\n",
       "      <td>0.133946</td>\n",
       "      <td>-0.385601</td>\n",
       "      <td>0.257748</td>\n",
       "      <td>0.577537</td>\n",
       "      <td>1.000000</td>\n",
       "      <td>0.110119</td>\n",
       "      <td>0.339213</td>\n",
       "    </tr>\n",
       "    <tr>\n",
       "      <th>Ca</th>\n",
       "      <td>0.362605</td>\n",
       "      <td>0.093185</td>\n",
       "      <td>0.098773</td>\n",
       "      <td>0.119000</td>\n",
       "      <td>0.145478</td>\n",
       "      <td>0.128343</td>\n",
       "      <td>-0.264246</td>\n",
       "      <td>0.145570</td>\n",
       "      <td>0.295832</td>\n",
       "      <td>0.110119</td>\n",
       "      <td>1.000000</td>\n",
       "      <td>0.460442</td>\n",
       "    </tr>\n",
       "    <tr>\n",
       "      <th>target</th>\n",
       "      <td>0.223120</td>\n",
       "      <td>0.276816</td>\n",
       "      <td>0.150825</td>\n",
       "      <td>0.085164</td>\n",
       "      <td>0.025264</td>\n",
       "      <td>0.169202</td>\n",
       "      <td>-0.417167</td>\n",
       "      <td>0.431894</td>\n",
       "      <td>0.424510</td>\n",
       "      <td>0.339213</td>\n",
       "      <td>0.460442</td>\n",
       "      <td>1.000000</td>\n",
       "    </tr>\n",
       "  </tbody>\n",
       "</table>\n",
       "</div>"
      ],
      "text/plain": [
       "              Age       Sex    RestBP      Chol       Fbs   RestECG     MaxHR  \\\n",
       "Age      1.000000 -0.097542  0.284946  0.208950  0.118530  0.148868 -0.393806   \n",
       "Sex     -0.097542  1.000000 -0.064456 -0.199915  0.047862  0.021647 -0.048663   \n",
       "RestBP   0.284946 -0.064456  1.000000  0.130120  0.175340  0.146560 -0.045351   \n",
       "Chol     0.208950 -0.199915  0.130120  1.000000  0.009841  0.171043 -0.003432   \n",
       "Fbs      0.118530  0.047862  0.175340  0.009841  1.000000  0.069564 -0.007854   \n",
       "RestECG  0.148868  0.021647  0.146560  0.171043  0.069564  1.000000 -0.083389   \n",
       "MaxHR   -0.393806 -0.048663 -0.045351 -0.003432 -0.007854 -0.083389  1.000000   \n",
       "ExAng    0.091661  0.146201  0.064762  0.061310  0.025665  0.084867 -0.378103   \n",
       "Oldpeak  0.203805  0.102173  0.189171  0.046564  0.005747  0.114133 -0.343085   \n",
       "Slope    0.161770  0.037533  0.117382 -0.004062  0.059894  0.133946 -0.385601   \n",
       "Ca       0.362605  0.093185  0.098773  0.119000  0.145478  0.128343 -0.264246   \n",
       "target   0.223120  0.276816  0.150825  0.085164  0.025264  0.169202 -0.417167   \n",
       "\n",
       "            ExAng   Oldpeak     Slope        Ca    target  \n",
       "Age      0.091661  0.203805  0.161770  0.362605  0.223120  \n",
       "Sex      0.146201  0.102173  0.037533  0.093185  0.276816  \n",
       "RestBP   0.064762  0.189171  0.117382  0.098773  0.150825  \n",
       "Chol     0.061310  0.046564 -0.004062  0.119000  0.085164  \n",
       "Fbs      0.025665  0.005747  0.059894  0.145478  0.025264  \n",
       "RestECG  0.084867  0.114133  0.133946  0.128343  0.169202  \n",
       "MaxHR   -0.378103 -0.343085 -0.385601 -0.264246 -0.417167  \n",
       "ExAng    1.000000  0.288223  0.257748  0.145570  0.431894  \n",
       "Oldpeak  0.288223  1.000000  0.577537  0.295832  0.424510  \n",
       "Slope    0.257748  0.577537  1.000000  0.110119  0.339213  \n",
       "Ca       0.145570  0.295832  0.110119  1.000000  0.460442  \n",
       "target   0.431894  0.424510  0.339213  0.460442  1.000000  "
      ]
     },
     "execution_count": 11,
     "metadata": {},
     "output_type": "execute_result"
    },
    {
     "data": {
      "image/png": "[encoded data removed]",
      "text/plain": [
       "<Figure size 432x288 with 1 Axes>"
      ]
     },
     "metadata": {
      "needs_background": "light"
     },
     "output_type": "display_data"
    }
   ],
   "source": [
    "df['target'] = df.AHD.apply(lambda x: 1 if x == 'Yes' else 0)\n",
    "plt.imshow(df.corr())\n",
    "df.corr()#.apply(lambda x: x[abs(x) > 0.4])"
   ]
  },
  {
   "cell_type": "markdown",
   "metadata": {},
   "source": [
    "# Разделим данные"
   ]
  },
  {
   "cell_type": "code",
   "execution_count": 12,
   "metadata": {},
   "outputs": [],
   "source": [
    "test_size = 0.2\n",
    "random_seed = 42\n",
    "train, test = train_test_split(df, test_size=test_size, random_state=random_seed)"
   ]
  },
  {
   "cell_type": "code",
   "execution_count": 13,
   "metadata": {},
   "outputs": [
    {
     "name": "stdout",
     "output_type": "stream",
     "text": [
      "No     135\n",
      "Yes    107\n",
      "Name: AHD, dtype: int64\n",
      "Yes    32\n",
      "No     29\n",
      "Name: AHD, dtype: int64\n"
     ]
    }
   ],
   "source": [
    "print(train.AHD.value_counts())\n",
    "print(test.AHD.value_counts())"
   ]
  },
  {
   "cell_type": "markdown",
   "metadata": {},
   "source": [
    "# Создадим трансформеры и пайплайны"
   ]
  },
  {
   "cell_type": "code",
   "execution_count": 26,
   "metadata": {},
   "outputs": [],
   "source": [
    "from sklearn.preprocessing import StandardScaler, OneHotEncoder\n",
    "from sklearn.compose import ColumnTransformer\n",
    "from sklearn.impute import SimpleImputer\n",
    "from sklearn.pipeline import Pipeline"
   ]
  },
  {
   "cell_type": "code",
   "execution_count": 15,
   "metadata": {},
   "outputs": [],
   "source": [
    "int_scaler = StandardScaler().fit(df[integer_featuers])"
   ]
  },
  {
   "cell_type": "code",
   "execution_count": 16,
   "metadata": {},
   "outputs": [
    {
     "data": {
      "text/plain": [
       "True"
      ]
     },
     "execution_count": 16,
     "metadata": {},
     "output_type": "execute_result"
    }
   ],
   "source": [
    "with open('int_scaler', 'wb') as fout:\n",
    "    pickle.dump(int_scaler, fout)\n",
    "\n",
    "with open('int_scaler', 'rb') as fin:\n",
    "    load_int_scaler = pickle.load(fin)\n",
    "\n",
    "np.allclose(int_scaler.transform(df[integer_featuers]), \n",
    "             load_int_scaler.transform(df[integer_featuers]))"
   ]
  },
  {
   "cell_type": "code",
   "execution_count": 17,
   "metadata": {},
   "outputs": [
    {
     "data": {
      "text/plain": [
       "array([[0., 0., 0., ..., 0., 0., 0.],\n",
       "       [1., 0., 0., ..., 0., 0., 0.],\n",
       "       [1., 0., 0., ..., 0., 0., 0.],\n",
       "       ...,\n",
       "       [1., 0., 0., ..., 0., 0., 0.],\n",
       "       [0., 0., 1., ..., 0., 0., 0.],\n",
       "       [0., 1., 0., ..., 0., 0., 0.]])"
      ]
     },
     "execution_count": 17,
     "metadata": {},
     "output_type": "execute_result"
    }
   ],
   "source": [
    "OneHotEncoder(sparse=False, drop='if_binary').fit_transform(df[catecorical_features[:1] + integer_featuers])"
   ]
  },
  {
   "cell_type": "code",
   "execution_count": 30,
   "metadata": {},
   "outputs": [
    {
     "data": {
      "text/plain": [
       "array([ 0.94872647,  0.75752504, -0.2649003 ,  0.01719733,  1.08733806,\n",
       "        0.        ,  0.        ,  0.        ,  1.        ,  1.        ,\n",
       "        0.        ,  0.        ,  0.        ,  1.        ,  0.        ,\n",
       "        0.        ])"
      ]
     },
     "execution_count": 30,
     "metadata": {},
     "output_type": "execute_result"
    }
   ],
   "source": [
    "int_pipe = Pipeline([\n",
    "    ('impute', SimpleImputer(strategy='most_frequent')),\n",
    "    ('scale', StandardScaler())\n",
    "])\n",
    "cat_pipe = Pipeline([\n",
    "    ('impute', SimpleImputer(strategy='most_frequent')),\n",
    "    ('onehot', OneHotEncoder(sparse=False, drop='if_binary', handle_unknown='ignore'))\n",
    "])\n",
    "# int_transformer.fit_transform(df[integer_featuers])\n",
    "# cat_transformer.fit_transform(df[catecorical_features])\n",
    "transformer = ColumnTransformer([\n",
    "    ('integer', int_pipe, integer_featuers),\n",
    "    ('categorical', cat_pipe, catecorical_features)\n",
    "])\n",
    "transformer.fit_transform(df)"
   ]
  },
  {
   "cell_type": "code",
   "execution_count": 34,
   "metadata": {},
   "outputs": [],
   "source": [
    "transformer.fit(train)\n",
    "X_train, y_train = transformer.transform(train), train.AHD.apply(lambda x: 1 if x == 'Yes' else 0)\n",
    "X_test, y_test = transformer.transform(test), test.AHD.apply(lambda x: 1 if x == 'Yes' else 0)"
   ]
  },
  {
   "cell_type": "code",
   "execution_count": 40,
   "metadata": {},
   "outputs": [
    {
     "name": "stdout",
     "output_type": "stream",
     "text": [
      "accuracy: 0.8525\n",
      "roc_auc: 0.8528\n",
      "r2: 0.4058\n"
     ]
    }
   ],
   "source": [
    "from sklearn.linear_model import LogisticRegression\n",
    "from sklearn.metrics import accuracy_score, roc_auc_score, r2_score\n",
    "model = LogisticRegression().fit(X_train, y_train)\n",
    "preds = model.predict(X_test)\n",
    "for name, mectric_fn in [('accuracy', accuracy_score), ('roc_auc', roc_auc_score), ('r2', r2_score)]:\n",
    "    print(name, round(mectric_fn(preds, y_test), 4), sep=': ')"
   ]
  }
 ],
 "metadata": {
  "kernelspec": {
   "display_name": "Python 3",
   "language": "python",
   "name": "python3"
  },
  "language_info": {
   "codemirror_mode": {
    "name": "ipython",
    "version": 3
   },
   "file_extension": ".py",
   "mimetype": "text/x-python",
   "name": "python",
   "nbconvert_exporter": "python",
   "pygments_lexer": "ipython3",
   "version": "3.7.0"
  }
 },
 "nbformat": 4,
 "nbformat_minor": 2
}
